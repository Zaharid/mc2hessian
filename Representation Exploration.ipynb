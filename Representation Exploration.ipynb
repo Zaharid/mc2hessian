{
 "cells": [
  {
   "cell_type": "code",
   "execution_count": 1,
   "metadata": {
    "collapsed": true
   },
   "outputs": [],
   "source": [
    "from mc2hessian import (LocalPDF, XGrid, Flavors, invcov_sqrtinvcov,\n",
    "                        comp_hess, DEFAULT_EPSILON)\n",
    "import numpy as np\n",
    "import numpy.linalg as la\n",
    "import matplotlib.pyplot as plt\n",
    "import pandas as pd\n",
    "%matplotlib inline"
   ]
  },
  {
   "cell_type": "code",
   "execution_count": 2,
   "metadata": {
    "collapsed": true
   },
   "outputs": [
    {
     "name": "stdout",
     "output_type": "stream",
     "text": [
      " [Info] Keeping  242 nf*nx using (1-std/68cl) <= eps = 0.25\n",
      " [Warning] Removing eigenvalue 0 -3.86149087968e-17\n",
      " [Warning] Removing eigenvalue 1 -1.64385511927e-17\n",
      " [Warning] Removing eigenvalue 2 -7.30146553535e-18\n",
      " [Warning] Removing eigenvalue 3 -1.44691652489e-18\n",
      " [Warning] Removing eigenvalue 4 -6.0694333774e-20\n",
      " [Warning] Removing eigenvalue 5 -5.23455499837e-20\n",
      " [Warning] Removing eigenvalue 6 -2.51740134208e-20\n",
      " [Warning] Removing eigenvalue 7 -2.00074305352e-20\n",
      " [Warning] Removing eigenvalue 8 -1.87149532612e-20\n",
      " [Warning] Removing eigenvalue 9 -1.29993910382e-20\n",
      " [Warning] Removing eigenvalue 10 -6.55177987523e-21\n",
      " [Warning] Removing eigenvalue 11 -6.41854418732e-21\n",
      " [Warning] Removing eigenvalue 12 -5.84692989199e-21\n",
      " [Warning] Removing eigenvalue 13 -3.73270188283e-21\n",
      " [Warning] Removing eigenvalue 14 -3.68073857631e-21\n",
      " [Warning] Removing eigenvalue 15 -3.35165574958e-21\n",
      " [Warning] Removing eigenvalue 16 -3.23910617033e-21\n",
      " [Warning] Removing eigenvalue 17 -2.95734913243e-21\n",
      " [Warning] Removing eigenvalue 18 -2.58470575624e-21\n",
      " [Warning] Removing eigenvalue 19 -2.3138755113e-21\n",
      " [Warning] Removing eigenvalue 20 -2.2080421278e-21\n",
      " [Warning] Removing eigenvalue 21 -2.10217504325e-21\n",
      " [Warning] Removing eigenvalue 22 -1.81912375705e-21\n",
      " [Warning] Removing eigenvalue 23 -1.63377151994e-21\n",
      " [Warning] Removing eigenvalue 24 -1.39261924012e-21\n",
      " [Warning] Removing eigenvalue 25 -1.20528542339e-21\n",
      " [Warning] Removing eigenvalue 26 -1.07069425901e-21\n",
      " [Warning] Removing eigenvalue 27 -9.74726350852e-22\n",
      " [Warning] Removing eigenvalue 28 -7.2231452274e-22\n",
      " [Warning] Removing eigenvalue 29 -6.81964784581e-22\n",
      " [Warning] Removing eigenvalue 30 -4.33105346048e-22\n",
      " [Warning] Removing eigenvalue 31 -4.13236373176e-22\n",
      " [Warning] Removing eigenvalue 32 -2.0251694725e-22\n",
      " [Warning] Removing eigenvalue 33 -1.75954566999e-22\n",
      " [Warning] Removing eigenvalue 34 -1.43996635816e-22\n",
      " [Warning] Removing eigenvalue 35 -9.18417920951e-23\n",
      " [Warning] Removing eigenvalue 36 -6.98147393592e-23\n",
      " [Warning] Removing eigenvalue 37 -3.82881136912e-23\n",
      " [Warning] Removing eigenvalue 38 -3.40688297109e-23\n",
      " [Warning] Removing eigenvalue 39 -3.89751185828e-24\n",
      " [Warning] Removing eigenvalue 40 -1.88121570359e-37\n",
      " [Warning] Removing eigenvalue 41 -1.5399982721e-37\n",
      " [Warning] Removing eigenvalue 42 -1.10716141524e-37\n",
      " [Warning] Removing eigenvalue 43 -9.43886879084e-38\n",
      " [Warning] Removing eigenvalue 44 -7.62551794517e-38\n",
      " [Warning] Removing eigenvalue 45 -5.62596757689e-38\n",
      " [Warning] Removing eigenvalue 46 -4.93185526853e-38\n",
      " [Warning] Removing eigenvalue 47 -9.79214986247e-39\n",
      " [Warning] Removing eigenvalue 48 -8.09437526667e-54\n",
      " [Warning] Removing eigenvalue 49 -3.49496171535e-54\n",
      " [Warning] Removing eigenvalue 50 0.0\n",
      " [Warning] Removing eigenvalue 51 0.0\n",
      " [Warning] Removing eigenvalue 52 0.0\n",
      " [Warning] Removing eigenvalue 53 0.0\n",
      " [Warning] Removing eigenvalue 54 0.0\n",
      " [Warning] Removing eigenvalue 55 0.0\n",
      " [Warning] Removing eigenvalue 56 0.0\n",
      " [Warning] Removing eigenvalue 57 0.0\n",
      " [Warning] Removing eigenvalue 58 0.0\n",
      " [Warning] Removing eigenvalue 59 0.0\n",
      " [Warning] Removing eigenvalue 60 0.0\n",
      " [Warning] Removing eigenvalue 61 0.0\n",
      " [Warning] Removing eigenvalue 62 0.0\n",
      " [Warning] Removing eigenvalue 63 0.0\n",
      " [Warning] Removing eigenvalue 64 0.0\n",
      " [Warning] Removing eigenvalue 65 0.0\n",
      " [Warning] Removing eigenvalue 66 0.0\n",
      " [Warning] Removing eigenvalue 67 1.1589336982e-53\n",
      " [Warning] Removing eigenvalue 68 1.26001111943e-38\n",
      " [Warning] Removing eigenvalue 69 2.72343185275e-38\n",
      " [Warning] Removing eigenvalue 70 4.62501129979e-38\n",
      " [Warning] Removing eigenvalue 71 8.93453353704e-38\n",
      " [Warning] Removing eigenvalue 72 1.18533684231e-37\n",
      " [Warning] Removing eigenvalue 73 1.44277947073e-37\n",
      " [Warning] Removing eigenvalue 74 1.90281406179e-37\n",
      " [Warning] Removing eigenvalue 75 8.62634088913e-24\n",
      " [Warning] Removing eigenvalue 76 1.23743496568e-23\n",
      " [Warning] Removing eigenvalue 77 1.90892640842e-23\n",
      " [Warning] Removing eigenvalue 78 5.34805583747e-23\n",
      " [Warning] Removing eigenvalue 79 1.08489664152e-22\n",
      " [Warning] Removing eigenvalue 80 1.61249523567e-22\n",
      " [Warning] Removing eigenvalue 81 2.06203452042e-22\n",
      " [Warning] Removing eigenvalue 82 3.93419993755e-22\n",
      " [Warning] Removing eigenvalue 83 4.38004661159e-22\n",
      " [Warning] Removing eigenvalue 84 5.86628229568e-22\n",
      " [Warning] Removing eigenvalue 85 8.39136941383e-22\n",
      " [Warning] Removing eigenvalue 86 9.07351115771e-22\n",
      " [Warning] Removing eigenvalue 87 1.077976706e-21\n",
      " [Warning] Removing eigenvalue 88 1.19238251717e-21\n",
      " [Warning] Removing eigenvalue 89 1.44869037609e-21\n",
      " [Warning] Removing eigenvalue 90 1.61576879173e-21\n",
      " [Warning] Removing eigenvalue 91 1.96012603672e-21\n",
      " [Warning] Removing eigenvalue 92 2.3551916461e-21\n",
      " [Warning] Removing eigenvalue 93 2.67993818122e-21\n",
      " [Warning] Removing eigenvalue 94 3.00021501504e-21\n",
      " [Warning] Removing eigenvalue 95 3.2436153996e-21\n",
      " [Warning] Removing eigenvalue 96 4.05458227668e-21\n",
      " [Warning] Removing eigenvalue 97 4.78442915708e-21\n",
      " [Warning] Removing eigenvalue 98 5.73443656181e-21\n",
      " [Warning] Removing eigenvalue 99 8.72171434142e-21\n",
      " [Warning] Removing eigenvalue 100 1.38877585845e-20\n",
      " [Warning] Removing eigenvalue 101 1.94320045945e-20\n",
      " [Warning] Removing eigenvalue 102 2.2850606827e-20\n",
      " [Warning] Removing eigenvalue 103 2.87409519751e-20\n",
      " [Warning] Removing eigenvalue 104 3.12376120807e-18\n",
      " [Warning] Removing eigenvalue 105 2.12558944586e-17\n",
      " [Warning] Removing eigenvalue 106 2.47526612365e-17\n",
      " [Warning] Removing eigenvalue 107 3.97971789939e-17\n"
     ]
    }
   ],
   "source": [
    "fl = Flavors()\n",
    "xgrid = XGrid()\n",
    "pdf = LocalPDF('1000rep', 1000, xgrid, fl, 1, eps=0.25)\n",
    "index = pdf.fin\n",
    "indextmp = np.copy(index)\n",
    "nx = xgrid.n\n",
    "nf = fl.n\n",
    "\n",
    "# build covmat\n",
    "cov = pdf.pdfcovmat()\n",
    "invcov, sqrtinvcov = invcov_sqrtinvcov(cov)"
   ]
  },
  {
   "cell_type": "code",
   "execution_count": 3,
   "metadata": {
    "collapsed": false
   },
   "outputs": [],
   "source": [
    "p = d = pdf.n_rep\n",
    "h = len(sqrtinvcov)\n",
    "A = np.zeros(shape=(h, p))\n",
    "for t in range(p):\n",
    "    for fl in range(nf):\n",
    "        for ix in range(nx):\n",
    "            i = nx*fl + ix\n",
    "            A[i, t] = pdf.xfxQ[t, fl, ix] - pdf.f0[fl, ix]\n",
    "B = np.dot(sqrtinvcov, A)"
   ]
  },
  {
   "cell_type": "markdown",
   "metadata": {},
   "source": [
    "Compute Singular value decomposition\n",
    "----------------------------------------"
   ]
  },
  {
   "cell_type": "code",
   "execution_count": 23,
   "metadata": {
    "collapsed": false
   },
   "outputs": [
    {
     "data": {
      "text/plain": [
       "True"
      ]
     },
     "execution_count": 23,
     "metadata": {},
     "output_type": "execute_result"
    }
   ],
   "source": [
    "U,s,V = la.svd(B, full_matrices=False)\n",
    "#Remove small singular values\n",
    "goods =np.argwhere(s>1e-5).ravel()\n",
    "s = s[goods]\n",
    "U = U[:, goods]\n",
    "V = V[goods, :]\n",
    "#Check this does not affect the result\n",
    "np.allclose(B, np.dot(U, np.dot(np.diag(s), V)))"
   ]
  },
  {
   "cell_type": "code",
   "execution_count": 24,
   "metadata": {
    "collapsed": false
   },
   "outputs": [
    {
     "data": {
      "text/plain": [
       "count    242.000000\n",
       "mean      31.606961\n",
       "std        0.000168\n",
       "min       31.605123\n",
       "25%       31.606961\n",
       "50%       31.606961\n",
       "75%       31.606961\n",
       "max       31.608810\n",
       "dtype: float64"
      ]
     },
     "execution_count": 24,
     "metadata": {},
     "output_type": "execute_result"
    }
   ],
   "source": [
    "#All non-small singular values are the same!\n",
    "pd.Series(s).describe()"
   ]
  },
  {
   "cell_type": "code",
   "execution_count": 97,
   "metadata": {
    "collapsed": false
   },
   "outputs": [],
   "source": [
    "projs = np.sum(np.abs(V),axis=0)"
   ]
  },
  {
   "cell_type": "code",
   "execution_count": 98,
   "metadata": {
    "collapsed": false
   },
   "outputs": [],
   "source": [
    "selected = np.argsort(projs)[-100:]"
   ]
  },
  {
   "cell_type": "code",
   "execution_count": 121,
   "metadata": {
    "collapsed": false
   },
   "outputs": [],
   "source": [
    "s2 = np.argsort(np.sum(np.abs(np.dot(V.T,V)), axis=1))[:100]"
   ]
  },
  {
   "cell_type": "markdown",
   "metadata": {},
   "source": [
    "Compare results for linear system\n",
    "======"
   ]
  },
  {
   "cell_type": "code",
   "execution_count": 122,
   "metadata": {
    "collapsed": false
   },
   "outputs": [],
   "source": [
    "#Random basis of 100 replicas\n",
    "def make_random_sel(neig):\n",
    "    random_sel = np.random.choice(np.arange(1000), replace=False,size=neig)\n",
    "    random_sel.sort()\n",
    "    return random_sel\n",
    "random_sel = make_random_sel(100)"
   ]
  },
  {
   "cell_type": "code",
   "execution_count": 123,
   "metadata": {
    "collapsed": false
   },
   "outputs": [],
   "source": [
    "#\n",
    "gab = np.array([int(x) for x in \"\"\" 1   2   3   5   6   7   8   9  10  11  13  14  15  17  19  20  21  22\n",
    "  23  24  25  27  28  29  31  32  33  34  35  37  38  39  42  43  44  45\n",
    "  46  47  48  49  50  51  54  55  56  57  58  59  60  64  65  66  67  69\n",
    "  70  71  72  73  75  77  79  80  81  83  84  86  89  91  92  94  95  96\n",
    "  97  98 110 150 153 222 338 415 442 465 500 517 560 614 640 661 676 706\n",
    " 725 739 771 779 847 860 873 874 890 973\"\"\".split()]) - 1"
   ]
  },
  {
   "cell_type": "markdown",
   "metadata": {},
   "source": [
    "Sum of residuals for \"best\""
   ]
  },
  {
   "cell_type": "code",
   "execution_count": 124,
   "metadata": {
    "collapsed": false
   },
   "outputs": [
    {
     "name": "stdout",
     "output_type": "stream",
     "text": [
      "141858.008327\n"
     ]
    }
   ],
   "source": [
    "\n",
    "c, res, rank, s = la.lstsq(B[:,s2], B)\n",
    "print(np.sum(res))"
   ]
  },
  {
   "cell_type": "markdown",
   "metadata": {},
   "source": [
    "Sum of residuals for random"
   ]
  },
  {
   "cell_type": "code",
   "execution_count": 137,
   "metadata": {
    "collapsed": false
   },
   "outputs": [
    {
     "name": "stdout",
     "output_type": "stream",
     "text": [
      "141857.99462\n"
     ]
    }
   ],
   "source": [
    "\n",
    "c, res, rank, s = la.lstsq(B[:,random_sel], B)\n",
    "print(np.sum(res))"
   ]
  },
  {
   "cell_type": "markdown",
   "metadata": {},
   "source": [
    "Best of 1000 random"
   ]
  },
  {
   "cell_type": "code",
   "execution_count": 120,
   "metadata": {
    "collapsed": false
   },
   "outputs": [
    {
     "name": "stdout",
     "output_type": "stream",
     "text": [
      "141857.980629\n"
     ]
    }
   ],
   "source": [
    "def many_rand():\n",
    "    for _ in range(1000):\n",
    "        c, res, rank, s = la.lstsq(B[:,make_random_sel(100)], B)\n",
    "        yield (np.sum(res))\n",
    "print(min(many_rand()))"
   ]
  },
  {
   "cell_type": "markdown",
   "metadata": {},
   "source": [
    "Sum of residuals for GA"
   ]
  },
  {
   "cell_type": "code",
   "execution_count": 62,
   "metadata": {
    "collapsed": false
   },
   "outputs": [
    {
     "name": "stdout",
     "output_type": "stream",
     "text": [
      "141858.002661\n"
     ]
    }
   ],
   "source": [
    "c, res, rank, s = la.lstsq(B[:,gab], B)\n",
    "print(np.sum(res))"
   ]
  },
  {
   "cell_type": "markdown",
   "metadata": {
    "collapsed": true
   },
   "source": [
    "Check critical $N_{eig}$\n",
    "=============="
   ]
  },
  {
   "cell_type": "code",
   "execution_count": 27,
   "metadata": {
    "collapsed": false
   },
   "outputs": [
    {
     "name": "stdout",
     "output_type": "stream",
     "text": [
      "1998.00131138\n"
     ]
    }
   ],
   "source": [
    "#Random basis of 240 replicas\n",
    "random_sel = np.random.choice(np.arange(1000), replace=False,size=240)\n",
    "random_sel.sort()\n",
    "c, res, rank, s = la.lstsq(B[:,random_sel], B)\n",
    "print(np.sum(res))"
   ]
  },
  {
   "cell_type": "code",
   "execution_count": 28,
   "metadata": {
    "collapsed": false
   },
   "outputs": [
    {
     "name": "stdout",
     "output_type": "stream",
     "text": [
      "999.002313795\n"
     ]
    }
   ],
   "source": [
    "#Random basis of 241 replicas\n",
    "random_sel = np.random.choice(np.arange(1000), replace=False,size=241)\n",
    "random_sel.sort()\n",
    "c, res, rank, s = la.lstsq(B[:,random_sel], B)\n",
    "print(np.sum(res))"
   ]
  },
  {
   "cell_type": "code",
   "execution_count": 30,
   "metadata": {
    "collapsed": false
   },
   "outputs": [
    {
     "name": "stdout",
     "output_type": "stream",
     "text": [
      "1.54741153968e-23\n"
     ]
    }
   ],
   "source": [
    "#Random basis of 242 replicas\n",
    "random_sel = np.random.choice(np.arange(1000), replace=False,size=242)\n",
    "random_sel.sort()\n",
    "c, res, rank, s = la.lstsq(B[:,random_sel], B)\n",
    "print(np.sum(res))"
   ]
  },
  {
   "cell_type": "code",
   "execution_count": 34,
   "metadata": {
    "collapsed": false
   },
   "outputs": [],
   "source": [
    "l = []\n",
    "neigs = np.arange(242,50,-1)\n",
    "for i in neigs:\n",
    "    random_sel = np.random.choice(np.arange(1000), replace=False,size=i)\n",
    "    random_sel.sort()\n",
    "    c, res, rank, s = la.lstsq(B[:,random_sel], B)\n",
    "    l.append(np.sum(res))\n"
   ]
  },
  {
   "cell_type": "code",
   "execution_count": 40,
   "metadata": {
    "collapsed": false
   },
   "outputs": [
    {
     "data": {
      "text/plain": [
       "<matplotlib.text.Text at 0x7fcda3094910>"
      ]
     },
     "execution_count": 40,
     "metadata": {},
     "output_type": "execute_result"
    },
    {
     "data": {
      "image/png": "[encoded data removed]",
      "text/plain": [
       "<matplotlib.figure.Figure at 0x7fcda3103510>"
      ]
     },
     "metadata": {},
     "output_type": "display_data"
    }
   ],
   "source": [
    "plt.plot(neigs,l, '.', markersize=0.5)\n",
    "plt.ylabel(\"Residuals\")\n",
    "plt.xlabel(\"$N_{eig}$\")"
   ]
  }
 ],
 "metadata": {
  "kernelspec": {
   "display_name": "Python 2",
   "language": "python",
   "name": "python2"
  },
  "language_info": {
   "codemirror_mode": {
    "name": "ipython",
    "version": 2
   },
   "file_extension": ".py",
   "mimetype": "text/x-python",
   "name": "python",
   "nbconvert_exporter": "python",
   "pygments_lexer": "ipython2",
   "version": "2.7.9"
  }
 },
 "nbformat": 4,
 "nbformat_minor": 0
}
